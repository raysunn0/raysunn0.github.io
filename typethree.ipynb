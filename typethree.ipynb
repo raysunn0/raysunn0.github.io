{
  "cells": [
    {
      "cell_type": "markdown",
      "metadata": {
        "id": "view-in-github",
        "colab_type": "text"
      },
      "source": [
        "<a href=\"https://colab.research.google.com/github/raysunn0/raysunn0.github.io/blob/main/typethree.ipynb\" target=\"_parent\"><img src=\"https://colab.research.google.com/assets/colab-badge.svg\" alt=\"Open In Colab\"/></a>"
      ]
    },
    {
      "cell_type": "markdown",
      "id": "09f6a298",
      "metadata": {
        "id": "09f6a298"
      },
      "source": [
        "# 1.5 작업 3유형 (파이썬)"
      ]
    },
    {
      "cell_type": "markdown",
      "id": "80a63c7b",
      "metadata": {
        "id": "80a63c7b"
      },
      "source": [
        "[![Hits](https://hits.seeyoufarm.com/api/count/incr/badge.svg?url=https%3A%2F%2Fwww.datamanim.com%2Fdataset%2F03_dataq%2Ftypethree.html&count_bg=%238921C0&title_bg=%23555555&icon=&icon_color=%23E7E7E7&title=hits&edge_flat=false)](https://hits.seeyoufarm.com)"
      ]
    },
    {
      "cell_type": "markdown",
      "id": "f2642e49",
      "metadata": {
        "id": "f2642e49"
      },
      "source": [
        "```\n",
        "나는 광고클릭에 목마르다\n",
        "```"
      ]
    },
    {
      "cell_type": "markdown",
      "id": "7012e73b",
      "metadata": {
        "id": "7012e73b"
      },
      "source": [
        "### 업데이트 작업중 입니다. 우선 아래 링크에 존재하는 문제들 부터 풀어보셔유\n",
        "https://www.datamanim.com/dataset/97_scipy/scipy.html  \n",
        "\n",
        "https://www.datamanim.com/dataset/03_dataq/typethree.html   (adp 통계 기출 파트)"
      ]
    },
    {
      "cell_type": "markdown",
      "id": "13041b66",
      "metadata": {
        "id": "13041b66"
      },
      "source": [
        "## t- 검정"
      ]
    },
    {
      "cell_type": "markdown",
      "id": "649f8df1",
      "metadata": {
        "id": "649f8df1"
      },
      "source": [
        "### 일표본 t-검정"
      ]
    },
    {
      "cell_type": "markdown",
      "id": "6a9e2c0e",
      "metadata": {
        "id": "6a9e2c0e"
      },
      "source": [
        "### 대응표본 t-검정"
      ]
    },
    {
      "cell_type": "markdown",
      "id": "78a891d6",
      "metadata": {
        "id": "78a891d6"
      },
      "source": [
        "### 독립표본 t-검정"
      ]
    },
    {
      "cell_type": "markdown",
      "id": "1ce7789b",
      "metadata": {
        "id": "1ce7789b"
      },
      "source": [
        "## 정규성 검정"
      ]
    },
    {
      "cell_type": "markdown",
      "id": "d439bae6",
      "metadata": {
        "id": "d439bae6"
      },
      "source": [
        "## 등분산 검정"
      ]
    },
    {
      "cell_type": "markdown",
      "id": "0599e769",
      "metadata": {
        "id": "0599e769"
      },
      "source": [
        "## 분산분석"
      ]
    },
    {
      "cell_type": "markdown",
      "id": "3b8dfbde",
      "metadata": {
        "id": "3b8dfbde"
      },
      "source": [
        "### One-way ANOVA"
      ]
    },
    {
      "cell_type": "markdown",
      "id": "74f23201",
      "metadata": {
        "id": "74f23201"
      },
      "source": [
        "### Two-way ANOVA"
      ]
    },
    {
      "cell_type": "markdown",
      "id": "c0a17ed1",
      "metadata": {
        "id": "c0a17ed1"
      },
      "source": [
        "## 카이제곱 검정"
      ]
    },
    {
      "cell_type": "markdown",
      "id": "c93b0d7e",
      "metadata": {
        "id": "c93b0d7e"
      },
      "source": [
        "### 독립성 검정"
      ]
    },
    {
      "cell_type": "markdown",
      "id": "3b0e84c7",
      "metadata": {
        "id": "3b0e84c7"
      },
      "source": [
        "### 동질성 검정"
      ]
    },
    {
      "cell_type": "markdown",
      "id": "4cfa91cb",
      "metadata": {
        "id": "4cfa91cb"
      },
      "source": [
        "### 적합성 검정"
      ]
    },
    {
      "cell_type": "markdown",
      "id": "d19bdcd4",
      "metadata": {
        "id": "d19bdcd4"
      },
      "source": [
        "## 순위검정"
      ]
    },
    {
      "cell_type": "markdown",
      "id": "97957daf",
      "metadata": {
        "id": "97957daf"
      },
      "source": [
        "### 윌콕슨 순위합 검정"
      ]
    },
    {
      "cell_type": "markdown",
      "id": "ac90fa15",
      "metadata": {
        "id": "ac90fa15"
      },
      "source": [
        "### 크루스칼 - 왈리스 검정"
      ]
    },
    {
      "cell_type": "markdown",
      "id": "5ff61041",
      "metadata": {
        "id": "5ff61041"
      },
      "source": [
        "## 부호검정"
      ]
    },
    {
      "cell_type": "markdown",
      "id": "2bd0e33a",
      "metadata": {
        "id": "2bd0e33a"
      },
      "source": [
        "### 부호검정"
      ]
    },
    {
      "cell_type": "markdown",
      "id": "1b5dcd0b",
      "metadata": {
        "id": "1b5dcd0b"
      },
      "source": [
        "### 맥네마 검정"
      ]
    },
    {
      "cell_type": "markdown",
      "id": "0d3a7bd2",
      "metadata": {
        "id": "0d3a7bd2"
      },
      "source": [
        "## 다변량 추론"
      ]
    },
    {
      "cell_type": "markdown",
      "id": "ddbd4031",
      "metadata": {
        "id": "ddbd4031"
      },
      "source": [
        "### 다중 회귀 분석"
      ]
    }
  ],
  "metadata": {
    "celltoolbar": "Edit Metadata",
    "kernelspec": {
      "display_name": "Python 3 (ipykernel)",
      "language": "python",
      "name": "python3"
    },
    "language_info": {
      "codemirror_mode": {
        "name": "ipython",
        "version": 3
      },
      "file_extension": ".py",
      "mimetype": "text/x-python",
      "name": "python",
      "nbconvert_exporter": "python",
      "pygments_lexer": "ipython3",
      "version": "3.8.18"
    },
    "vscode": {
      "interpreter": {
        "hash": "082e9a3bcad0a290d0001e938aa60b99250c6c2ef33a923c00b70f9826caf4b7"
      }
    },
    "colab": {
      "provenance": [],
      "include_colab_link": true
    }
  },
  "nbformat": 4,
  "nbformat_minor": 5
}